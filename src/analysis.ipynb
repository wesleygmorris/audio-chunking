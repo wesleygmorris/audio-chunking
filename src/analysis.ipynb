{
 "cells": [
  {
   "cell_type": "code",
   "execution_count": 4,
   "id": "f5fc34e0",
   "metadata": {},
   "outputs": [],
   "source": [
    "from sklearn.metrics import accuracy_score, f1_score, precision_score, recall_score, classification_report, confusion_matrix\n"
   ]
  },
  {
   "cell_type": "code",
   "execution_count": 2,
   "id": "f4eb325b",
   "metadata": {},
   "outputs": [],
   "source": [
    "loud_actual = [0,0,1,0,0,1,1,0,1,1,1,0,0,1,0,1,0,0,1,0,1,0,0,0,1,1,0,0,1,1,0,0,1,1,0,1,1,0,0,1,0,0,0,1,0,1,0,0,1,1,0,1,0,0,1,1,1,0,0,1,1,1,0,1,0,0,1,0,1,0,1,0,0,1,0,0,1,0,1,0,1,0,0,0,0,0,1,0,0,1,0,0,1,0,0,0,1,0,0,1,0,1,1,0,1,0,1,0,1,0,1,0,1,0,0,1,0,1,0,1,0,0,1,1,1,0,0,1,0,0,1,0,1,0,0,0,1,0,0,0,1,0,1,0,0,0,1,0,0,1,1,0,0,0,1,0,1,0,0,1,0,1,0,1,0,0,1,0]\n",
    "loud_predicted = [0,0,1,0,0,1,1,0,0,0,1,0,0,1,0,1,0,0,1,0,1,1,0,0,0,1,0,0,0,0,1,1,1,1,0,1,1,0,0,1,1,0,0,1,0,1,1,0,0,1,1,1,0,0,1,1,1,1,1,1,1,1,0,1,0,0,1,1,1,1,1,1,0,1,0,0,1,1,1,0,0,0,0,0,0,0,1,0,0,1,0,0,0,0,0,0,1,0,1,0,0,1,0,0,1,0,1,1,1,1,1,0,1,0,0,1,0,1,0,1,1,0,1,1,1,0,1,1,0,0,1,0,1,0,0,1,0,0,0,0,1,0,1,0,0,1,1,1,1,1,0,0,0,0,0,0,1,0,0,1,0,1,0,1,0,0,1,0]"
   ]
  },
  {
   "cell_type": "code",
   "execution_count": 6,
   "id": "508c0e63",
   "metadata": {},
   "outputs": [
    {
     "name": "stdout",
     "output_type": "stream",
     "text": [
      "              precision    recall  f1-score   support\n",
      "\n",
      "           0       0.85      0.78      0.82        97\n",
      "           1       0.73      0.82      0.77        71\n",
      "\n",
      "    accuracy                           0.80       168\n",
      "   macro avg       0.79      0.80      0.80       168\n",
      "weighted avg       0.80      0.80      0.80       168\n",
      "\n"
     ]
    }
   ],
   "source": [
    "print(classification_report(loud_actual, loud_predicted))"
   ]
  },
  {
   "cell_type": "code",
   "execution_count": 11,
   "id": "eff5fa5a",
   "metadata": {},
   "outputs": [],
   "source": [
    "quiet_actual =    [1,1,1,1,0,1,0,1,0,1,0,1,0,0,1,0,0,0,1,1,1,1,0,1,0,1,1,0,1,0,0,0,1,0,1,0,1,0,0,1,0,1,1,0,1,1,0,0,1,1,0,1,0,1,0,1,1,1,0,1,0,1,0,1,0,1,0,1,0,1,0,0,0,1,0,0,1,0,0,1,0,1,1,1,0,1,0,0,0,1,0,1,0,1,0,1,0,1,0,0,0,1,0,0,1,1,0,1,0,0,1,1,1,0,0,1,0,0,1,0,1,1,1,1,0,0,1,0,1,0,1,0,0,0,1,0,0,1,0,1,0,0,1,0,0,1,0]\n",
    "quiet_predicted = [1,0,0,1,0,1,0,1,0,1,0,1,0,1,0,0,1,0,1,0,1,1,0,1,0,0,0,0,0,0,0,0,1,0,1,0,0,0,0,1,0,0,1,0,1,1,1,0,1,1,1,0,0,1,0,1,1,0,0,1,0,0,0,0,0,0,0,1,0,1,0,1,1,0,0,0,1,0,0,0,1,1,0,1,0,0,0,0,0,0,0,0,0,1,0,0,0,1,0,0,1,1,1,0,1,1,0,0,0,0,1,0,0,0,0,0,0,0,1,0,1,1,0,1,0,0,1,0,0,0,1,0,1,1,0,1,0,1,0,1,0,1,1,0,0,1,0]"
   ]
  },
  {
   "cell_type": "code",
   "execution_count": 12,
   "id": "d5f359b1",
   "metadata": {},
   "outputs": [
    {
     "name": "stdout",
     "output_type": "stream",
     "text": [
      "              precision    recall  f1-score   support\n",
      "\n",
      "           0       0.69      0.83      0.75        76\n",
      "           1       0.77      0.61      0.68        71\n",
      "\n",
      "    accuracy                           0.72       147\n",
      "   macro avg       0.73      0.72      0.72       147\n",
      "weighted avg       0.73      0.72      0.72       147\n",
      "\n"
     ]
    }
   ],
   "source": [
    "print(classification_report(quiet_actual, quiet_predicted))"
   ]
  },
  {
   "cell_type": "code",
   "execution_count": 13,
   "id": "4d96ec9a",
   "metadata": {},
   "outputs": [],
   "source": [
    "all_actual = loud_actual + quiet_actual\n",
    "all_predicted = loud_predicted + quiet_predicted"
   ]
  },
  {
   "cell_type": "code",
   "execution_count": 14,
   "id": "6c9bec19",
   "metadata": {},
   "outputs": [
    {
     "name": "stdout",
     "output_type": "stream",
     "text": [
      "              precision    recall  f1-score   support\n",
      "\n",
      "           0       0.77      0.80      0.79       173\n",
      "           1       0.75      0.71      0.73       142\n",
      "\n",
      "    accuracy                           0.76       315\n",
      "   macro avg       0.76      0.76      0.76       315\n",
      "weighted avg       0.76      0.76      0.76       315\n",
      "\n"
     ]
    }
   ],
   "source": [
    "print(classification_report(all_actual, all_predicted))"
   ]
  },
  {
   "cell_type": "code",
   "execution_count": null,
   "id": "7baff37c",
   "metadata": {},
   "outputs": [],
   "source": []
  }
 ],
 "metadata": {
  "kernelspec": {
   "display_name": "Python 3",
   "language": "python",
   "name": "python3"
  },
  "language_info": {
   "codemirror_mode": {
    "name": "ipython",
    "version": 3
   },
   "file_extension": ".py",
   "mimetype": "text/x-python",
   "name": "python",
   "nbconvert_exporter": "python",
   "pygments_lexer": "ipython3",
   "version": "3.8.5"
  }
 },
 "nbformat": 4,
 "nbformat_minor": 5
}
